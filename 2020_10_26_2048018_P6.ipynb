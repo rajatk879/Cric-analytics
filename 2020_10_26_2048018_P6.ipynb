{
  "nbformat": 4,
  "nbformat_minor": 0,
  "metadata": {
    "colab": {
      "name": "2020_10_26_2048018_P6.ipynb",
      "provenance": [],
      "collapsed_sections": [],
      "authorship_tag": "ABX9TyM9lOp5Ct9iIb4aHLE7arRk"
    },
    "kernelspec": {
      "name": "python3",
      "display_name": "Python 3"
    }
  },
  "cells": [
    {
      "cell_type": "code",
      "metadata": {
        "id": "0ojPm4tHim4Z",
        "outputId": "0e449f3b-866c-48b3-91d7-572a21ef41d3",
        "colab": {
          "resources": {
            "http://localhost:8080/nbextensions/google.colab/files.js": {
              "data": "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",
              "ok": true,
              "headers": [
                [
                  "content-type",
                  "application/javascript"
                ]
              ],
              "status": 200,
              "status_text": ""
            }
          },
          "base_uri": "https://localhost:8080/",
          "height": 350
        }
      },
      "source": [
        "import pandas as pd     \n",
        "import numpy as np\n",
        "from google.colab import files\n",
        "uploaded = files.upload()\n",
        "uploaded = files.upload()\n",
        "uploaded = files.upload()\n",
        "uploaded = files.upload()\n",
        "uploaded = files.upload()\n",
        "uploaded = files.upload()\n",
        "\n",
        "\n"
      ],
      "execution_count": 3,
      "outputs": [
        {
          "output_type": "display_data",
          "data": {
            "text/html": [
              "\n",
              "     <input type=\"file\" id=\"files-64ab3e8b-b3f1-4e45-81fe-4a5636089357\" name=\"files[]\" multiple disabled\n",
              "        style=\"border:none\" />\n",
              "     <output id=\"result-64ab3e8b-b3f1-4e45-81fe-4a5636089357\">\n",
              "      Upload widget is only available when the cell has been executed in the\n",
              "      current browser session. Please rerun this cell to enable.\n",
              "      </output>\n",
              "      <script src=\"/nbextensions/google.colab/files.js\"></script> "
            ],
            "text/plain": [
              "<IPython.core.display.HTML object>"
            ]
          },
          "metadata": {
            "tags": []
          }
        },
        {
          "output_type": "stream",
          "text": [
            "Saving Batsman_Data.csv to Batsman_Data.csv\n"
          ],
          "name": "stdout"
        },
        {
          "output_type": "display_data",
          "data": {
            "text/html": [
              "\n",
              "     <input type=\"file\" id=\"files-da65f4ed-796c-46a8-a4a4-dcfb831f5e3b\" name=\"files[]\" multiple disabled\n",
              "        style=\"border:none\" />\n",
              "     <output id=\"result-da65f4ed-796c-46a8-a4a4-dcfb831f5e3b\">\n",
              "      Upload widget is only available when the cell has been executed in the\n",
              "      current browser session. Please rerun this cell to enable.\n",
              "      </output>\n",
              "      <script src=\"/nbextensions/google.colab/files.js\"></script> "
            ],
            "text/plain": [
              "<IPython.core.display.HTML object>"
            ]
          },
          "metadata": {
            "tags": []
          }
        },
        {
          "output_type": "stream",
          "text": [
            "Saving Bowler_data.csv to Bowler_data.csv\n"
          ],
          "name": "stdout"
        },
        {
          "output_type": "display_data",
          "data": {
            "text/html": [
              "\n",
              "     <input type=\"file\" id=\"files-32e8f79b-80b2-462e-89f4-119560860577\" name=\"files[]\" multiple disabled\n",
              "        style=\"border:none\" />\n",
              "     <output id=\"result-32e8f79b-80b2-462e-89f4-119560860577\">\n",
              "      Upload widget is only available when the cell has been executed in the\n",
              "      current browser session. Please rerun this cell to enable.\n",
              "      </output>\n",
              "      <script src=\"/nbextensions/google.colab/files.js\"></script> "
            ],
            "text/plain": [
              "<IPython.core.display.HTML object>"
            ]
          },
          "metadata": {
            "tags": []
          }
        },
        {
          "output_type": "stream",
          "text": [
            "Saving Ground_Averages.csv to Ground_Averages.csv\n"
          ],
          "name": "stdout"
        },
        {
          "output_type": "display_data",
          "data": {
            "text/html": [
              "\n",
              "     <input type=\"file\" id=\"files-7a0d3656-0985-433b-9205-fa1bf8539b38\" name=\"files[]\" multiple disabled\n",
              "        style=\"border:none\" />\n",
              "     <output id=\"result-7a0d3656-0985-433b-9205-fa1bf8539b38\">\n",
              "      Upload widget is only available when the cell has been executed in the\n",
              "      current browser session. Please rerun this cell to enable.\n",
              "      </output>\n",
              "      <script src=\"/nbextensions/google.colab/files.js\"></script> "
            ],
            "text/plain": [
              "<IPython.core.display.HTML object>"
            ]
          },
          "metadata": {
            "tags": []
          }
        },
        {
          "output_type": "stream",
          "text": [
            "Saving ODI_Match_Results.csv to ODI_Match_Results.csv\n"
          ],
          "name": "stdout"
        },
        {
          "output_type": "display_data",
          "data": {
            "text/html": [
              "\n",
              "     <input type=\"file\" id=\"files-3c5c57a5-3ee2-4988-a653-a662ffdb5206\" name=\"files[]\" multiple disabled\n",
              "        style=\"border:none\" />\n",
              "     <output id=\"result-3c5c57a5-3ee2-4988-a653-a662ffdb5206\">\n",
              "      Upload widget is only available when the cell has been executed in the\n",
              "      current browser session. Please rerun this cell to enable.\n",
              "      </output>\n",
              "      <script src=\"/nbextensions/google.colab/files.js\"></script> "
            ],
            "text/plain": [
              "<IPython.core.display.HTML object>"
            ]
          },
          "metadata": {
            "tags": []
          }
        },
        {
          "output_type": "stream",
          "text": [
            "Saving ODI_Match_Totals.csv to ODI_Match_Totals.csv\n"
          ],
          "name": "stdout"
        },
        {
          "output_type": "display_data",
          "data": {
            "text/html": [
              "\n",
              "     <input type=\"file\" id=\"files-1dc6ccec-1bdb-4a97-ac60-577d742c6229\" name=\"files[]\" multiple disabled\n",
              "        style=\"border:none\" />\n",
              "     <output id=\"result-1dc6ccec-1bdb-4a97-ac60-577d742c6229\">\n",
              "      Upload widget is only available when the cell has been executed in the\n",
              "      current browser session. Please rerun this cell to enable.\n",
              "      </output>\n",
              "      <script src=\"/nbextensions/google.colab/files.js\"></script> "
            ],
            "text/plain": [
              "<IPython.core.display.HTML object>"
            ]
          },
          "metadata": {
            "tags": []
          }
        },
        {
          "output_type": "stream",
          "text": [
            "Saving WC_players.csv to WC_players.csv\n"
          ],
          "name": "stdout"
        }
      ]
    },
    {
      "cell_type": "code",
      "metadata": {
        "id": "lehkp8MlmRPZ"
      },
      "source": [
        "batsman_data = pd.read_csv(\"Batsman_Data.csv\")\n",
        "bowler_data = pd.read_csv(\"Bowler_data.csv\")\n",
        "ground_data = pd.read_csv(\"Ground_Averages.csv\")\n",
        "result_data = pd.read_csv(\"ODI_Match_Results.csv\")\n",
        "total_data = pd.read_csv(\"ODI_Match_Totals.csv\")\n",
        "player_data = pd.read_csv(\"WC_players.csv\")"
      ],
      "execution_count": 5,
      "outputs": []
    },
    {
      "cell_type": "code",
      "metadata": {
        "id": "HZVBXmJmnNBh",
        "outputId": "20385681-61e8-4f69-9e03-80a1cef94e1c",
        "colab": {
          "base_uri": "https://localhost:8080/",
          "height": 118
        }
      },
      "source": [
        "print(ground_data.shape)\n",
        "print(result_data.shape)\n",
        "print(total_data.shape)\n",
        "print(bowler_data.shape)\n",
        "print(batsman_data.shape)\n",
        "print(player_data.shape)"
      ],
      "execution_count": 6,
      "outputs": [
        {
          "output_type": "stream",
          "text": [
            "(106, 11)\n",
            "(1322, 12)\n",
            "(1296, 13)\n",
            "(11118, 14)\n",
            "(11149, 13)\n",
            "(152, 3)\n"
          ],
          "name": "stdout"
        }
      ]
    },
    {
      "cell_type": "code",
      "metadata": {
        "id": "MFjYkixznxOz",
        "outputId": "9df21010-e9aa-4438-a93a-5239a8ba679b",
        "colab": {
          "base_uri": "https://localhost:8080/",
          "height": 195
        }
      },
      "source": [
        "batsman_data.head(5)"
      ],
      "execution_count": 9,
      "outputs": [
        {
          "output_type": "execute_result",
          "data": {
            "text/html": [
              "<div>\n",
              "<style scoped>\n",
              "    .dataframe tbody tr th:only-of-type {\n",
              "        vertical-align: middle;\n",
              "    }\n",
              "\n",
              "    .dataframe tbody tr th {\n",
              "        vertical-align: top;\n",
              "    }\n",
              "\n",
              "    .dataframe thead th {\n",
              "        text-align: right;\n",
              "    }\n",
              "</style>\n",
              "<table border=\"1\" class=\"dataframe\">\n",
              "  <thead>\n",
              "    <tr style=\"text-align: right;\">\n",
              "      <th></th>\n",
              "      <th>Unnamed: 0</th>\n",
              "      <th>Bat1</th>\n",
              "      <th>Runs</th>\n",
              "      <th>BF</th>\n",
              "      <th>SR</th>\n",
              "      <th>4s</th>\n",
              "      <th>6s</th>\n",
              "      <th>Opposition</th>\n",
              "      <th>Ground</th>\n",
              "      <th>Start Date</th>\n",
              "      <th>Match_ID</th>\n",
              "      <th>Batsman</th>\n",
              "      <th>Player_ID</th>\n",
              "    </tr>\n",
              "  </thead>\n",
              "  <tbody>\n",
              "    <tr>\n",
              "      <th>0</th>\n",
              "      <td>1</td>\n",
              "      <td>DNB</td>\n",
              "      <td>-</td>\n",
              "      <td>-</td>\n",
              "      <td>-</td>\n",
              "      <td>-</td>\n",
              "      <td>-</td>\n",
              "      <td>v India</td>\n",
              "      <td>Nagpur</td>\n",
              "      <td>18 Dec 2009</td>\n",
              "      <td>ODI # 2933</td>\n",
              "      <td>Oshane Thomas</td>\n",
              "      <td>49619</td>\n",
              "    </tr>\n",
              "    <tr>\n",
              "      <th>1</th>\n",
              "      <td>2</td>\n",
              "      <td>DNB</td>\n",
              "      <td>-</td>\n",
              "      <td>-</td>\n",
              "      <td>-</td>\n",
              "      <td>-</td>\n",
              "      <td>-</td>\n",
              "      <td>v India</td>\n",
              "      <td>Kolkata</td>\n",
              "      <td>24 Dec 2009</td>\n",
              "      <td>ODI # 2935</td>\n",
              "      <td>Oshane Thomas</td>\n",
              "      <td>49619</td>\n",
              "    </tr>\n",
              "    <tr>\n",
              "      <th>2</th>\n",
              "      <td>3</td>\n",
              "      <td>DNB</td>\n",
              "      <td>-</td>\n",
              "      <td>-</td>\n",
              "      <td>-</td>\n",
              "      <td>-</td>\n",
              "      <td>-</td>\n",
              "      <td>v India</td>\n",
              "      <td>Delhi</td>\n",
              "      <td>27 Dec 2009</td>\n",
              "      <td>ODI # 2936</td>\n",
              "      <td>Oshane Thomas</td>\n",
              "      <td>49619</td>\n",
              "    </tr>\n",
              "    <tr>\n",
              "      <th>3</th>\n",
              "      <td>4</td>\n",
              "      <td>DNB</td>\n",
              "      <td>-</td>\n",
              "      <td>-</td>\n",
              "      <td>-</td>\n",
              "      <td>-</td>\n",
              "      <td>-</td>\n",
              "      <td>v Bangladesh</td>\n",
              "      <td>Dhaka</td>\n",
              "      <td>4 Jan 2010</td>\n",
              "      <td>ODI # 2937</td>\n",
              "      <td>Oshane Thomas</td>\n",
              "      <td>49619</td>\n",
              "    </tr>\n",
              "    <tr>\n",
              "      <th>4</th>\n",
              "      <td>5</td>\n",
              "      <td>DNB</td>\n",
              "      <td>-</td>\n",
              "      <td>-</td>\n",
              "      <td>-</td>\n",
              "      <td>-</td>\n",
              "      <td>-</td>\n",
              "      <td>v India</td>\n",
              "      <td>Dhaka</td>\n",
              "      <td>5 Jan 2010</td>\n",
              "      <td>ODI # 2938</td>\n",
              "      <td>Oshane Thomas</td>\n",
              "      <td>49619</td>\n",
              "    </tr>\n",
              "  </tbody>\n",
              "</table>\n",
              "</div>"
            ],
            "text/plain": [
              "   Unnamed: 0 Bat1 Runs BF  ...   Start Date    Match_ID        Batsman Player_ID\n",
              "0           1  DNB    -  -  ...  18 Dec 2009  ODI # 2933  Oshane Thomas     49619\n",
              "1           2  DNB    -  -  ...  24 Dec 2009  ODI # 2935  Oshane Thomas     49619\n",
              "2           3  DNB    -  -  ...  27 Dec 2009  ODI # 2936  Oshane Thomas     49619\n",
              "3           4  DNB    -  -  ...   4 Jan 2010  ODI # 2937  Oshane Thomas     49619\n",
              "4           5  DNB    -  -  ...   5 Jan 2010  ODI # 2938  Oshane Thomas     49619\n",
              "\n",
              "[5 rows x 13 columns]"
            ]
          },
          "metadata": {
            "tags": []
          },
          "execution_count": 9
        }
      ]
    },
    {
      "cell_type": "code",
      "metadata": {
        "id": "L_EyrCxLokA8",
        "outputId": "af119235-82a0-4371-80c3-3cac77e039ab",
        "colab": {
          "base_uri": "https://localhost:8080/",
          "height": 296
        }
      },
      "source": [
        "bowler_data.head(5)"
      ],
      "execution_count": 10,
      "outputs": [
        {
          "output_type": "execute_result",
          "data": {
            "text/html": [
              "<div>\n",
              "<style scoped>\n",
              "    .dataframe tbody tr th:only-of-type {\n",
              "        vertical-align: middle;\n",
              "    }\n",
              "\n",
              "    .dataframe tbody tr th {\n",
              "        vertical-align: top;\n",
              "    }\n",
              "\n",
              "    .dataframe thead th {\n",
              "        text-align: right;\n",
              "    }\n",
              "</style>\n",
              "<table border=\"1\" class=\"dataframe\">\n",
              "  <thead>\n",
              "    <tr style=\"text-align: right;\">\n",
              "      <th></th>\n",
              "      <th>Unnamed: 0</th>\n",
              "      <th>Overs</th>\n",
              "      <th>Mdns</th>\n",
              "      <th>Runs</th>\n",
              "      <th>Wkts</th>\n",
              "      <th>Econ</th>\n",
              "      <th>Ave</th>\n",
              "      <th>SR</th>\n",
              "      <th>Opposition</th>\n",
              "      <th>Ground</th>\n",
              "      <th>Start Date</th>\n",
              "      <th>Match_ID</th>\n",
              "      <th>Bowler</th>\n",
              "      <th>Player_ID</th>\n",
              "    </tr>\n",
              "  </thead>\n",
              "  <tbody>\n",
              "    <tr>\n",
              "      <th>0</th>\n",
              "      <td>1</td>\n",
              "      <td>8.0</td>\n",
              "      <td>0</td>\n",
              "      <td>57</td>\n",
              "      <td>0</td>\n",
              "      <td>7.12</td>\n",
              "      <td>-</td>\n",
              "      <td>-</td>\n",
              "      <td>v India</td>\n",
              "      <td>Nagpur</td>\n",
              "      <td>18 Dec 2009</td>\n",
              "      <td>ODI # 2933</td>\n",
              "      <td>Suranga Lakmal</td>\n",
              "      <td>49619</td>\n",
              "    </tr>\n",
              "    <tr>\n",
              "      <th>1</th>\n",
              "      <td>2</td>\n",
              "      <td>10.0</td>\n",
              "      <td>0</td>\n",
              "      <td>55</td>\n",
              "      <td>2</td>\n",
              "      <td>5.50</td>\n",
              "      <td>27.50</td>\n",
              "      <td>30.0</td>\n",
              "      <td>v India</td>\n",
              "      <td>Kolkata</td>\n",
              "      <td>24 Dec 2009</td>\n",
              "      <td>ODI # 2935</td>\n",
              "      <td>Suranga Lakmal</td>\n",
              "      <td>49619</td>\n",
              "    </tr>\n",
              "    <tr>\n",
              "      <th>2</th>\n",
              "      <td>3</td>\n",
              "      <td>-</td>\n",
              "      <td>-</td>\n",
              "      <td>-</td>\n",
              "      <td>-</td>\n",
              "      <td>-</td>\n",
              "      <td>-</td>\n",
              "      <td>-</td>\n",
              "      <td>v India</td>\n",
              "      <td>Delhi</td>\n",
              "      <td>27 Dec 2009</td>\n",
              "      <td>ODI # 2936</td>\n",
              "      <td>Suranga Lakmal</td>\n",
              "      <td>49619</td>\n",
              "    </tr>\n",
              "    <tr>\n",
              "      <th>3</th>\n",
              "      <td>4</td>\n",
              "      <td>9.0</td>\n",
              "      <td>1</td>\n",
              "      <td>63</td>\n",
              "      <td>2</td>\n",
              "      <td>7.00</td>\n",
              "      <td>31.50</td>\n",
              "      <td>27.0</td>\n",
              "      <td>v Bangladesh</td>\n",
              "      <td>Dhaka</td>\n",
              "      <td>4 Jan 2010</td>\n",
              "      <td>ODI # 2937</td>\n",
              "      <td>Suranga Lakmal</td>\n",
              "      <td>49619</td>\n",
              "    </tr>\n",
              "    <tr>\n",
              "      <th>4</th>\n",
              "      <td>5</td>\n",
              "      <td>8.0</td>\n",
              "      <td>1</td>\n",
              "      <td>48</td>\n",
              "      <td>0</td>\n",
              "      <td>6.00</td>\n",
              "      <td>-</td>\n",
              "      <td>-</td>\n",
              "      <td>v India</td>\n",
              "      <td>Dhaka</td>\n",
              "      <td>5 Jan 2010</td>\n",
              "      <td>ODI # 2938</td>\n",
              "      <td>Suranga Lakmal</td>\n",
              "      <td>49619</td>\n",
              "    </tr>\n",
              "  </tbody>\n",
              "</table>\n",
              "</div>"
            ],
            "text/plain": [
              "   Unnamed: 0 Overs Mdns  ...    Match_ID          Bowler Player_ID\n",
              "0           1   8.0    0  ...  ODI # 2933  Suranga Lakmal     49619\n",
              "1           2  10.0    0  ...  ODI # 2935  Suranga Lakmal     49619\n",
              "2           3     -    -  ...  ODI # 2936  Suranga Lakmal     49619\n",
              "3           4   9.0    1  ...  ODI # 2937  Suranga Lakmal     49619\n",
              "4           5   8.0    1  ...  ODI # 2938  Suranga Lakmal     49619\n",
              "\n",
              "[5 rows x 14 columns]"
            ]
          },
          "metadata": {
            "tags": []
          },
          "execution_count": 10
        }
      ]
    },
    {
      "cell_type": "code",
      "metadata": {
        "id": "kXWvCuVRonMr",
        "outputId": "d42c7ec1-b984-4086-8885-5fe4e21a23ff",
        "colab": {
          "base_uri": "https://localhost:8080/",
          "height": 195
        }
      },
      "source": [
        "player_data.head(5)"
      ],
      "execution_count": 11,
      "outputs": [
        {
          "output_type": "execute_result",
          "data": {
            "text/html": [
              "<div>\n",
              "<style scoped>\n",
              "    .dataframe tbody tr th:only-of-type {\n",
              "        vertical-align: middle;\n",
              "    }\n",
              "\n",
              "    .dataframe tbody tr th {\n",
              "        vertical-align: top;\n",
              "    }\n",
              "\n",
              "    .dataframe thead th {\n",
              "        text-align: right;\n",
              "    }\n",
              "</style>\n",
              "<table border=\"1\" class=\"dataframe\">\n",
              "  <thead>\n",
              "    <tr style=\"text-align: right;\">\n",
              "      <th></th>\n",
              "      <th>Player</th>\n",
              "      <th>ID</th>\n",
              "      <th>Country</th>\n",
              "    </tr>\n",
              "  </thead>\n",
              "  <tbody>\n",
              "    <tr>\n",
              "      <th>0</th>\n",
              "      <td>Gulbadin Naib (c)</td>\n",
              "      <td>352048</td>\n",
              "      <td>Afghanistan</td>\n",
              "    </tr>\n",
              "    <tr>\n",
              "      <th>1</th>\n",
              "      <td>Rashid Khan (vc)</td>\n",
              "      <td>793463</td>\n",
              "      <td>Afghanistan</td>\n",
              "    </tr>\n",
              "    <tr>\n",
              "      <th>2</th>\n",
              "      <td>Aftab Alam</td>\n",
              "      <td>440963</td>\n",
              "      <td>Afghanistan</td>\n",
              "    </tr>\n",
              "    <tr>\n",
              "      <th>3</th>\n",
              "      <td>Asghar Afghan</td>\n",
              "      <td>320652</td>\n",
              "      <td>Afghanistan</td>\n",
              "    </tr>\n",
              "    <tr>\n",
              "      <th>4</th>\n",
              "      <td>Dawlat Zadran</td>\n",
              "      <td>516561</td>\n",
              "      <td>Afghanistan</td>\n",
              "    </tr>\n",
              "  </tbody>\n",
              "</table>\n",
              "</div>"
            ],
            "text/plain": [
              "              Player      ID      Country\n",
              "0  Gulbadin Naib (c)  352048  Afghanistan\n",
              "1   Rashid Khan (vc)  793463  Afghanistan\n",
              "2         Aftab Alam  440963  Afghanistan\n",
              "3      Asghar Afghan  320652  Afghanistan\n",
              "4      Dawlat Zadran  516561  Afghanistan"
            ]
          },
          "metadata": {
            "tags": []
          },
          "execution_count": 11
        }
      ]
    },
    {
      "cell_type": "code",
      "metadata": {
        "id": "zTmQ4Xh2oq6r",
        "outputId": "2e84d880-80aa-47ad-9e9b-35ea2cee467a",
        "colab": {
          "base_uri": "https://localhost:8080/",
          "height": 195
        }
      },
      "source": [
        "result_data.head(5)"
      ],
      "execution_count": 12,
      "outputs": [
        {
          "output_type": "execute_result",
          "data": {
            "text/html": [
              "<div>\n",
              "<style scoped>\n",
              "    .dataframe tbody tr th:only-of-type {\n",
              "        vertical-align: middle;\n",
              "    }\n",
              "\n",
              "    .dataframe tbody tr th {\n",
              "        vertical-align: top;\n",
              "    }\n",
              "\n",
              "    .dataframe thead th {\n",
              "        text-align: right;\n",
              "    }\n",
              "</style>\n",
              "<table border=\"1\" class=\"dataframe\">\n",
              "  <thead>\n",
              "    <tr style=\"text-align: right;\">\n",
              "      <th></th>\n",
              "      <th>Unnamed: 0</th>\n",
              "      <th>Result</th>\n",
              "      <th>Margin</th>\n",
              "      <th>BR</th>\n",
              "      <th>Toss</th>\n",
              "      <th>Bat</th>\n",
              "      <th>Opposition</th>\n",
              "      <th>Ground</th>\n",
              "      <th>Start Date</th>\n",
              "      <th>Match_ID</th>\n",
              "      <th>Country</th>\n",
              "      <th>Country_ID</th>\n",
              "    </tr>\n",
              "  </thead>\n",
              "  <tbody>\n",
              "    <tr>\n",
              "      <th>0</th>\n",
              "      <td>418</td>\n",
              "      <td>won</td>\n",
              "      <td>85 runs</td>\n",
              "      <td>NaN</td>\n",
              "      <td>lost</td>\n",
              "      <td>1st</td>\n",
              "      <td>v India</td>\n",
              "      <td>Kolkata</td>\n",
              "      <td>3 Jan 2013</td>\n",
              "      <td>ODI # 3315</td>\n",
              "      <td>Pakistan</td>\n",
              "      <td>7</td>\n",
              "    </tr>\n",
              "    <tr>\n",
              "      <th>1</th>\n",
              "      <td>692</td>\n",
              "      <td>lost</td>\n",
              "      <td>85 runs</td>\n",
              "      <td>NaN</td>\n",
              "      <td>won</td>\n",
              "      <td>2nd</td>\n",
              "      <td>v Pakistan</td>\n",
              "      <td>Kolkata</td>\n",
              "      <td>3 Jan 2013</td>\n",
              "      <td>ODI # 3315</td>\n",
              "      <td>India</td>\n",
              "      <td>6</td>\n",
              "    </tr>\n",
              "    <tr>\n",
              "      <th>2</th>\n",
              "      <td>419</td>\n",
              "      <td>lost</td>\n",
              "      <td>10 runs</td>\n",
              "      <td>NaN</td>\n",
              "      <td>lost</td>\n",
              "      <td>2nd</td>\n",
              "      <td>v India</td>\n",
              "      <td>Delhi</td>\n",
              "      <td>6 Jan 2013</td>\n",
              "      <td>ODI # 3316</td>\n",
              "      <td>Pakistan</td>\n",
              "      <td>7</td>\n",
              "    </tr>\n",
              "    <tr>\n",
              "      <th>3</th>\n",
              "      <td>693</td>\n",
              "      <td>won</td>\n",
              "      <td>10 runs</td>\n",
              "      <td>NaN</td>\n",
              "      <td>won</td>\n",
              "      <td>1st</td>\n",
              "      <td>v Pakistan</td>\n",
              "      <td>Delhi</td>\n",
              "      <td>6 Jan 2013</td>\n",
              "      <td>ODI # 3316</td>\n",
              "      <td>India</td>\n",
              "      <td>6</td>\n",
              "    </tr>\n",
              "    <tr>\n",
              "      <th>4</th>\n",
              "      <td>121</td>\n",
              "      <td>lost</td>\n",
              "      <td>107 runs</td>\n",
              "      <td>NaN</td>\n",
              "      <td>lost</td>\n",
              "      <td>2nd</td>\n",
              "      <td>v Australia</td>\n",
              "      <td>Melbourne</td>\n",
              "      <td>11 Jan 2013</td>\n",
              "      <td>ODI # 3317</td>\n",
              "      <td>SriLanka</td>\n",
              "      <td>8</td>\n",
              "    </tr>\n",
              "  </tbody>\n",
              "</table>\n",
              "</div>"
            ],
            "text/plain": [
              "   Unnamed: 0 Result    Margin  ...    Match_ID   Country Country_ID\n",
              "0         418    won   85 runs  ...  ODI # 3315  Pakistan          7\n",
              "1         692   lost   85 runs  ...  ODI # 3315     India          6\n",
              "2         419   lost   10 runs  ...  ODI # 3316  Pakistan          7\n",
              "3         693    won   10 runs  ...  ODI # 3316     India          6\n",
              "4         121   lost  107 runs  ...  ODI # 3317  SriLanka          8\n",
              "\n",
              "[5 rows x 12 columns]"
            ]
          },
          "metadata": {
            "tags": []
          },
          "execution_count": 12
        }
      ]
    },
    {
      "cell_type": "code",
      "metadata": {
        "id": "7Ij7dwuoow0_",
        "outputId": "0445a8ce-2342-48c2-b6e2-3fb79cdde31d",
        "colab": {
          "base_uri": "https://localhost:8080/",
          "height": 195
        }
      },
      "source": [
        "total_data.head(5)"
      ],
      "execution_count": 13,
      "outputs": [
        {
          "output_type": "execute_result",
          "data": {
            "text/html": [
              "<div>\n",
              "<style scoped>\n",
              "    .dataframe tbody tr th:only-of-type {\n",
              "        vertical-align: middle;\n",
              "    }\n",
              "\n",
              "    .dataframe tbody tr th {\n",
              "        vertical-align: top;\n",
              "    }\n",
              "\n",
              "    .dataframe thead th {\n",
              "        text-align: right;\n",
              "    }\n",
              "</style>\n",
              "<table border=\"1\" class=\"dataframe\">\n",
              "  <thead>\n",
              "    <tr style=\"text-align: right;\">\n",
              "      <th></th>\n",
              "      <th>Unnamed: 0</th>\n",
              "      <th>Score</th>\n",
              "      <th>Overs</th>\n",
              "      <th>RPO</th>\n",
              "      <th>Target</th>\n",
              "      <th>Inns</th>\n",
              "      <th>Result</th>\n",
              "      <th>Opposition</th>\n",
              "      <th>Ground</th>\n",
              "      <th>Start Date</th>\n",
              "      <th>Match_ID</th>\n",
              "      <th>Country</th>\n",
              "      <th>Country_ID</th>\n",
              "    </tr>\n",
              "  </thead>\n",
              "  <tbody>\n",
              "    <tr>\n",
              "      <th>0</th>\n",
              "      <td>412</td>\n",
              "      <td>250</td>\n",
              "      <td>48.3</td>\n",
              "      <td>5.15</td>\n",
              "      <td>NaN</td>\n",
              "      <td>1</td>\n",
              "      <td>won</td>\n",
              "      <td>v India</td>\n",
              "      <td>Kolkata</td>\n",
              "      <td>3 Jan 2013</td>\n",
              "      <td>ODI # 3315</td>\n",
              "      <td>Pakistan</td>\n",
              "      <td>7</td>\n",
              "    </tr>\n",
              "    <tr>\n",
              "      <th>1</th>\n",
              "      <td>680</td>\n",
              "      <td>165</td>\n",
              "      <td>48.0</td>\n",
              "      <td>3.43</td>\n",
              "      <td>251.0</td>\n",
              "      <td>2</td>\n",
              "      <td>lost</td>\n",
              "      <td>v Pakistan</td>\n",
              "      <td>Kolkata</td>\n",
              "      <td>3 Jan 2013</td>\n",
              "      <td>ODI # 3315</td>\n",
              "      <td>India</td>\n",
              "      <td>6</td>\n",
              "    </tr>\n",
              "    <tr>\n",
              "      <th>2</th>\n",
              "      <td>413</td>\n",
              "      <td>157</td>\n",
              "      <td>48.5</td>\n",
              "      <td>3.21</td>\n",
              "      <td>168.0</td>\n",
              "      <td>2</td>\n",
              "      <td>lost</td>\n",
              "      <td>v India</td>\n",
              "      <td>Delhi</td>\n",
              "      <td>6 Jan 2013</td>\n",
              "      <td>ODI # 3316</td>\n",
              "      <td>Pakistan</td>\n",
              "      <td>7</td>\n",
              "    </tr>\n",
              "    <tr>\n",
              "      <th>3</th>\n",
              "      <td>681</td>\n",
              "      <td>167</td>\n",
              "      <td>43.4</td>\n",
              "      <td>3.82</td>\n",
              "      <td>NaN</td>\n",
              "      <td>1</td>\n",
              "      <td>won</td>\n",
              "      <td>v Pakistan</td>\n",
              "      <td>Delhi</td>\n",
              "      <td>6 Jan 2013</td>\n",
              "      <td>ODI # 3316</td>\n",
              "      <td>India</td>\n",
              "      <td>6</td>\n",
              "    </tr>\n",
              "    <tr>\n",
              "      <th>4</th>\n",
              "      <td>117</td>\n",
              "      <td>198</td>\n",
              "      <td>40.0</td>\n",
              "      <td>4.95</td>\n",
              "      <td>306.0</td>\n",
              "      <td>2</td>\n",
              "      <td>lost</td>\n",
              "      <td>v Australia</td>\n",
              "      <td>Melbourne</td>\n",
              "      <td>11 Jan 2013</td>\n",
              "      <td>ODI # 3317</td>\n",
              "      <td>SriLanka</td>\n",
              "      <td>8</td>\n",
              "    </tr>\n",
              "  </tbody>\n",
              "</table>\n",
              "</div>"
            ],
            "text/plain": [
              "   Unnamed: 0 Score  Overs   RPO  ...   Start Date    Match_ID   Country Country_ID\n",
              "0         412   250   48.3  5.15  ...   3 Jan 2013  ODI # 3315  Pakistan          7\n",
              "1         680   165   48.0  3.43  ...   3 Jan 2013  ODI # 3315     India          6\n",
              "2         413   157   48.5  3.21  ...   6 Jan 2013  ODI # 3316  Pakistan          7\n",
              "3         681   167   43.4  3.82  ...   6 Jan 2013  ODI # 3316     India          6\n",
              "4         117   198   40.0  4.95  ...  11 Jan 2013  ODI # 3317  SriLanka          8\n",
              "\n",
              "[5 rows x 13 columns]"
            ]
          },
          "metadata": {
            "tags": []
          },
          "execution_count": 13
        }
      ]
    },
    {
      "cell_type": "code",
      "metadata": {
        "id": "p6HkAiDZo1Jr",
        "outputId": "e772aa0f-1d89-45f9-a185-f33f788f90e7",
        "colab": {
          "base_uri": "https://localhost:8080/",
          "height": 195
        }
      },
      "source": [
        "ground_data.head(5)"
      ],
      "execution_count": 14,
      "outputs": [
        {
          "output_type": "execute_result",
          "data": {
            "text/html": [
              "<div>\n",
              "<style scoped>\n",
              "    .dataframe tbody tr th:only-of-type {\n",
              "        vertical-align: middle;\n",
              "    }\n",
              "\n",
              "    .dataframe tbody tr th {\n",
              "        vertical-align: top;\n",
              "    }\n",
              "\n",
              "    .dataframe thead th {\n",
              "        text-align: right;\n",
              "    }\n",
              "</style>\n",
              "<table border=\"1\" class=\"dataframe\">\n",
              "  <thead>\n",
              "    <tr style=\"text-align: right;\">\n",
              "      <th></th>\n",
              "      <th>Ground</th>\n",
              "      <th>Span</th>\n",
              "      <th>Mat</th>\n",
              "      <th>Won</th>\n",
              "      <th>Tied</th>\n",
              "      <th>NR</th>\n",
              "      <th>Runs</th>\n",
              "      <th>Wkts</th>\n",
              "      <th>Balls</th>\n",
              "      <th>Ave</th>\n",
              "      <th>RPO</th>\n",
              "    </tr>\n",
              "  </thead>\n",
              "  <tbody>\n",
              "    <tr>\n",
              "      <th>0</th>\n",
              "      <td>Eden Gardens, Kolkata - India</td>\n",
              "      <td>2013-2017</td>\n",
              "      <td>4</td>\n",
              "      <td>4</td>\n",
              "      <td>0</td>\n",
              "      <td>0</td>\n",
              "      <td>2161</td>\n",
              "      <td>72</td>\n",
              "      <td>2297</td>\n",
              "      <td>30.01</td>\n",
              "      <td>5.64</td>\n",
              "    </tr>\n",
              "    <tr>\n",
              "      <th>1</th>\n",
              "      <td>Feroz Shah Kotla, Delhi - India</td>\n",
              "      <td>2013-2019</td>\n",
              "      <td>4</td>\n",
              "      <td>4</td>\n",
              "      <td>0</td>\n",
              "      <td>0</td>\n",
              "      <td>1789</td>\n",
              "      <td>75</td>\n",
              "      <td>2331</td>\n",
              "      <td>23.85</td>\n",
              "      <td>4.60</td>\n",
              "    </tr>\n",
              "    <tr>\n",
              "      <th>2</th>\n",
              "      <td>Melbourne Cricket Ground - Australia</td>\n",
              "      <td>2013-2019</td>\n",
              "      <td>15</td>\n",
              "      <td>15</td>\n",
              "      <td>0</td>\n",
              "      <td>0</td>\n",
              "      <td>7656</td>\n",
              "      <td>217</td>\n",
              "      <td>8482</td>\n",
              "      <td>35.28</td>\n",
              "      <td>5.41</td>\n",
              "    </tr>\n",
              "    <tr>\n",
              "      <th>3</th>\n",
              "      <td>Saurashtra Cricket Association Stadium, Rajkot...</td>\n",
              "      <td>2013-2015</td>\n",
              "      <td>2</td>\n",
              "      <td>2</td>\n",
              "      <td>0</td>\n",
              "      <td>0</td>\n",
              "      <td>1163</td>\n",
              "      <td>26</td>\n",
              "      <td>1200</td>\n",
              "      <td>44.73</td>\n",
              "      <td>5.81</td>\n",
              "    </tr>\n",
              "    <tr>\n",
              "      <th>4</th>\n",
              "      <td>Adelaide Oval - Australia</td>\n",
              "      <td>2013-2019</td>\n",
              "      <td>10</td>\n",
              "      <td>10</td>\n",
              "      <td>0</td>\n",
              "      <td>0</td>\n",
              "      <td>4863</td>\n",
              "      <td>157</td>\n",
              "      <td>5645</td>\n",
              "      <td>30.97</td>\n",
              "      <td>5.16</td>\n",
              "    </tr>\n",
              "  </tbody>\n",
              "</table>\n",
              "</div>"
            ],
            "text/plain": [
              "                                              Ground       Span  ...    Ave   RPO\n",
              "0                      Eden Gardens, Kolkata - India  2013-2017  ...  30.01  5.64\n",
              "1                    Feroz Shah Kotla, Delhi - India  2013-2019  ...  23.85  4.60\n",
              "2               Melbourne Cricket Ground - Australia  2013-2019  ...  35.28  5.41\n",
              "3  Saurashtra Cricket Association Stadium, Rajkot...  2013-2015  ...  44.73  5.81\n",
              "4                          Adelaide Oval - Australia  2013-2019  ...  30.97  5.16\n",
              "\n",
              "[5 rows x 11 columns]"
            ]
          },
          "metadata": {
            "tags": []
          },
          "execution_count": 14
        }
      ]
    },
    {
      "cell_type": "code",
      "metadata": {
        "id": "UXo85Bd_7yw1",
        "outputId": "f2c74c2c-5a5c-4de2-cb17-275ec5c7b7fa",
        "colab": {
          "base_uri": "https://localhost:8080/",
          "height": 287
        }
      },
      "source": [
        "import seaborn as sns\n",
        "sns.heatmap(total_data.corr(),annot=True)"
      ],
      "execution_count": 49,
      "outputs": [
        {
          "output_type": "execute_result",
          "data": {
            "text/plain": [
              "<matplotlib.axes._subplots.AxesSubplot at 0x7fcc4d33c710>"
            ]
          },
          "metadata": {
            "tags": []
          },
          "execution_count": 49
        },
        {
          "output_type": "display_data",
          "data": {
            "image/png": "[encoded data removed]",
            "text/plain": [
              "<Figure size 432x288 with 2 Axes>"
            ]
          },
          "metadata": {
            "tags": [],
            "needs_background": "light"
          }
        }
      ]
    },
    {
      "cell_type": "code",
      "metadata": {
        "id": "5QPOaWlL8K3x",
        "outputId": "41acb41e-2701-41db-b46f-a9bd3d2e4871",
        "colab": {
          "base_uri": "https://localhost:8080/",
          "height": 286
        }
      },
      "source": [
        "sns.heatmap(ground_data.corr(),annot=True)"
      ],
      "execution_count": 51,
      "outputs": [
        {
          "output_type": "execute_result",
          "data": {
            "text/plain": [
              "<matplotlib.axes._subplots.AxesSubplot at 0x7fcc4b793e48>"
            ]
          },
          "metadata": {
            "tags": []
          },
          "execution_count": 51
        },
        {
          "output_type": "display_data",
          "data": {
            "image/png": "[encoded data removed]",
            "text/plain": [
              "<Figure size 432x288 with 2 Axes>"
            ]
          },
          "metadata": {
            "tags": [],
            "needs_background": "light"
          }
        }
      ]
    },
    {
      "cell_type": "code",
      "metadata": {
        "id": "pSpQr9Xzo59z",
        "outputId": "21023242-5228-49a9-b83c-0bd1d9e21f0a",
        "colab": {
          "base_uri": "https://localhost:8080/",
          "height": 121
        }
      },
      "source": [
        "# Create a list of venues\n",
        "WC_venue_pitches = [\"The Oval, London\",\"Trent Bridge, Nottingham\",\"Sophia Gardens, Cardiff\",\n",
        "\"County Ground, Bristol\",\"Rose Bowl, Southampton\",\"County Ground, Taunton\",\n",
        "\"Old Trafford, Manchester\",\"Edgbaston, Birmingham\"\n",
        ",\"Headingley, Leeds\",\"Lord's, London\",\"Riverside Ground, Chester-le-Street\"]\n",
        "\n",
        "#Total Grounds\n",
        "WC_Ground_Stats = []\n",
        "ODI_Grounds = total_data.Ground\n",
        "for i in ODI_Grounds:\n",
        "    for j in WC_venue_pitches:\n",
        "        if i in j:\n",
        "            WC_Ground_Stats.append((i,j))\n",
        "\n",
        "# we have a different format for specific grounds,a function which will be a mapping of those values\n",
        "Ground_names = dict(set(WC_Ground_Stats))\n",
        "def Full_Ground_names(value):\n",
        "    return Ground_names[value]\n",
        "\n",
        "\n",
        "# Replace ground name with full ground names in odi_match_totals dataframe\n",
        "Grounds_History = total_data[total_data.Ground.isin([Ground[0] for Ground in WC_Ground_Stats])]\n",
        "Grounds_History[\"Ground\"] = Grounds_History.Ground.apply(Full_Ground_names)\n",
        "Grounds_History.reset_index()\n",
        "\n",
        "# Find matches won on WC venues based on country value provided\n",
        "def findMatchesWon(country):\n",
        "    country_played = Grounds_History['Country'] == country\n",
        "    won = Grounds_History['Result']=='won'\n",
        "    country_stats = Grounds_History[country_played & won].groupby('Ground')['Ground'].count()\n",
        "    return country_stats\n",
        "# Find matches played WC venues based on country value provided\n",
        "def findMatchesPlayed(country):\n",
        "    return Grounds_History[Grounds_History['Country'] == country].groupby('Ground')['Ground'].count()\n"
      ],
      "execution_count": 25,
      "outputs": [
        {
          "output_type": "stream",
          "text": [
            "/usr/local/lib/python3.6/dist-packages/ipykernel_launcher.py:23: SettingWithCopyWarning: \n",
            "A value is trying to be set on a copy of a slice from a DataFrame.\n",
            "Try using .loc[row_indexer,col_indexer] = value instead\n",
            "\n",
            "See the caveats in the documentation: https://pandas.pydata.org/pandas-docs/stable/user_guide/indexing.html#returning-a-view-versus-a-copy\n"
          ],
          "name": "stderr"
        }
      ]
    },
    {
      "cell_type": "code",
      "metadata": {
        "id": "h0Tyr3wqq7FS",
        "outputId": "af84dc66-7860-4e0b-c7e1-05d1beba70ea",
        "colab": {
          "base_uri": "https://localhost:8080/",
          "height": 118
        }
      },
      "source": [
        "#Matches won by India\n",
        "won_india=findMatchesWon('India')\n",
        "won_india"
      ],
      "execution_count": 28,
      "outputs": [
        {
          "output_type": "execute_result",
          "data": {
            "text/plain": [
              "Ground\n",
              "Edgbaston, Birmingham       5\n",
              "Sophia Gardens, Cardiff     3\n",
              "The Oval, London            2\n",
              "Trent Bridge, Nottingham    2\n",
              "Name: Ground, dtype: int64"
            ]
          },
          "metadata": {
            "tags": []
          },
          "execution_count": 28
        }
      ]
    },
    {
      "cell_type": "code",
      "metadata": {
        "id": "BGbzxfADvYRL",
        "outputId": "b5692549-64d5-42a6-ccdd-25e83aad5d29",
        "colab": {
          "base_uri": "https://localhost:8080/",
          "height": 151
        }
      },
      "source": [
        "#Matches played by India\n",
        "played_india=findMatchesPlayed('India')\n",
        "played_india"
      ],
      "execution_count": 29,
      "outputs": [
        {
          "output_type": "execute_result",
          "data": {
            "text/plain": [
              "Ground\n",
              "Edgbaston, Birmingham       5\n",
              "Headingley, Leeds           2\n",
              "Lord's, London              1\n",
              "Sophia Gardens, Cardiff     3\n",
              "The Oval, London            4\n",
              "Trent Bridge, Nottingham    2\n",
              "Name: Ground, dtype: int64"
            ]
          },
          "metadata": {
            "tags": []
          },
          "execution_count": 29
        }
      ]
    },
    {
      "cell_type": "code",
      "metadata": {
        "id": "OYDBXeW1vcRG",
        "outputId": "638e39f9-b867-4851-ce40-6aa494e5d396",
        "colab": {
          "base_uri": "https://localhost:8080/",
          "height": 34
        }
      },
      "source": [
        "#Overall % of the matches won by India\n",
        "win_per_india=(won_india.values.sum()/played_india.values.sum())*100\n",
        "win_per_india"
      ],
      "execution_count": 30,
      "outputs": [
        {
          "output_type": "execute_result",
          "data": {
            "text/plain": [
              "70.58823529411765"
            ]
          },
          "metadata": {
            "tags": []
          },
          "execution_count": 30
        }
      ]
    },
    {
      "cell_type": "code",
      "metadata": {
        "id": "5ScwveESxFyi",
        "outputId": "f6f289ab-5735-4e4c-ea06-02581b4e3a78",
        "colab": {
          "base_uri": "https://localhost:8080/",
          "height": 218
        }
      },
      "source": [
        "#Matches won  when teams chose to bat first!\n",
        "bat_first_wins = Grounds_History[(Grounds_History['Inns']==1) \n",
        "& (Grounds_History['Result']=='won')].groupby('Ground')['Ground'].count()\n",
        "bat_first_wins"
      ],
      "execution_count": 35,
      "outputs": [
        {
          "output_type": "execute_result",
          "data": {
            "text/plain": [
              "Ground\n",
              "County Ground, Bristol                 1\n",
              "Edgbaston, Birmingham                  5\n",
              "Headingley, Leeds                      2\n",
              "Lord's, London                         4\n",
              "Old Trafford, Manchester               2\n",
              "Riverside Ground, Chester-le-Street    1\n",
              "Rose Bowl, Southampton                 5\n",
              "Sophia Gardens, Cardiff                6\n",
              "The Oval, London                       5\n",
              "Trent Bridge, Nottingham               3\n",
              "Name: Ground, dtype: int64"
            ]
          },
          "metadata": {
            "tags": []
          },
          "execution_count": 35
        }
      ]
    },
    {
      "cell_type": "code",
      "metadata": {
        "id": "VOa9YK_QzrQF",
        "outputId": "553ec4dd-a708-4896-a4ec-c0f8d1f79f2e",
        "colab": {
          "base_uri": "https://localhost:8080/",
          "height": 218
        }
      },
      "source": [
        "#Matches won when teams chose to bat second!\n",
        "bat_second_wins = Grounds_History[(Grounds_History['Inns']==2) \n",
        "& (Grounds_History['Result']=='won')].groupby('Ground')['Ground'].count()\n",
        "bat_second_wins"
      ],
      "execution_count": 37,
      "outputs": [
        {
          "output_type": "execute_result",
          "data": {
            "text/plain": [
              "Ground\n",
              "County Ground, Bristol                  2\n",
              "Edgbaston, Birmingham                   7\n",
              "Headingley, Leeds                       3\n",
              "Lord's, London                          3\n",
              "Old Trafford, Manchester                4\n",
              "Riverside Ground, Chester-le-Street     2\n",
              "Rose Bowl, Southampton                  3\n",
              "Sophia Gardens, Cardiff                 7\n",
              "The Oval, London                       10\n",
              "Trent Bridge, Nottingham                4\n",
              "Name: Ground, dtype: int64"
            ]
          },
          "metadata": {
            "tags": []
          },
          "execution_count": 37
        }
      ]
    },
    {
      "cell_type": "code",
      "metadata": {
        "id": "qfoZpmIpRexE"
      },
      "source": [
        "# Average scores to win pitch-wise while setting target and chasing\n",
        "first_bat_win_scores = {}\n",
        "updated_win_scores_first_bat = {}\n",
        "avg_win_score_first_bat_pitch = {}\n",
        "chase_win_scores = {}\n",
        "updated_win_scores_chase = {}\n",
        "avg_win_score_chase_pitch = {}\n",
        "for pitch in WC_venue_pitches:\n",
        "    first_bat_win_scores[pitch] = Grounds_History[(Grounds_History['Result']=='won') & (Grounds_History['Inns']==1) & (Grounds_History['Ground']==pitch)] ['Score']\n",
        "    updated_win_scores_first_bat[pitch] = [int(x.split('/', 1)[0]) for x in first_bat_win_scores[pitch]]\n",
        "    if (len(updated_win_scores_first_bat[pitch]) != 0):\n",
        "        avg_win_score_first_bat_pitch[pitch] = sum(updated_win_scores_first_bat[pitch])/len(updated_win_scores_first_bat[pitch])\n",
        "    else:\n",
        "        avg_win_score_first_bat_pitch[pitch] = 0\n",
        "    \n",
        "    chase_win_scores[pitch] = Grounds_History[(Grounds_History['Result']=='won') & (Grounds_History['Inns']==2) & (Grounds_History['Ground']==pitch)] ['Score']\n",
        "    updated_win_scores_chase[pitch] = [int(x.split('/', 1)[0]) for x in chase_win_scores[pitch]]\n",
        "    if (len(updated_win_scores_chase[pitch]) != 0):\n",
        "        avg_win_score_chase_pitch[pitch] = sum(updated_win_scores_chase[pitch])/len(updated_win_scores_chase[pitch])\n",
        "    else:\n",
        "        avg_win_score_chase_pitch[pitch] = 0"
      ],
      "execution_count": 53,
      "outputs": []
    },
    {
      "cell_type": "code",
      "metadata": {
        "id": "TGD7cDocSXyH",
        "outputId": "735d17ec-e20c-42ef-df25-14fdd9ad5ea1",
        "colab": {
          "base_uri": "https://localhost:8080/",
          "height": 202
        }
      },
      "source": [
        "avg_win_score_first_bat_pitch"
      ],
      "execution_count": 54,
      "outputs": [
        {
          "output_type": "execute_result",
          "data": {
            "text/plain": [
              "{'County Ground, Bristol': 369.0,\n",
              " 'County Ground, Taunton': 0,\n",
              " 'Edgbaston, Birmingham': 271.8,\n",
              " 'Headingley, Leeds': 316.5,\n",
              " \"Lord's, London\": 314.75,\n",
              " 'Old Trafford, Manchester': 307.5,\n",
              " 'Riverside Ground, Chester-le-Street': 256.0,\n",
              " 'Rose Bowl, Southampton': 333.0,\n",
              " 'Sophia Gardens, Cardiff': 296.6666666666667,\n",
              " 'The Oval, London': 307.0,\n",
              " 'Trent Bridge, Nottingham': 404.0}"
            ]
          },
          "metadata": {
            "tags": []
          },
          "execution_count": 54
        }
      ]
    },
    {
      "cell_type": "code",
      "metadata": {
        "id": "EIwNoHOxSd-3",
        "outputId": "1bbe4712-8258-4979-c2c6-e00650febd0a",
        "colab": {
          "base_uri": "https://localhost:8080/",
          "height": 202
        }
      },
      "source": [
        "avg_win_score_chase_pitch"
      ],
      "execution_count": 55,
      "outputs": [
        {
          "output_type": "execute_result",
          "data": {
            "text/plain": [
              "{'County Ground, Bristol': 243.0,\n",
              " 'County Ground, Taunton': 0,\n",
              " 'Edgbaston, Birmingham': 202.28571428571428,\n",
              " 'Headingley, Leeds': 272.0,\n",
              " \"Lord's, London\": 214.0,\n",
              " 'Old Trafford, Manchester': 157.75,\n",
              " 'Riverside Ground, Chester-le-Street': 253.0,\n",
              " 'Rose Bowl, Southampton': 264.6666666666667,\n",
              " 'Sophia Gardens, Cardiff': 225.14285714285714,\n",
              " 'The Oval, London': 249.2,\n",
              " 'Trent Bridge, Nottingham': 297.0}"
            ]
          },
          "metadata": {
            "tags": []
          },
          "execution_count": 55
        }
      ]
    },
    {
      "cell_type": "markdown",
      "metadata": {
        "id": "hPkbWvGyXBM1"
      },
      "source": [
        "**Conclusion**\n",
        "\n",
        "It's clear that by batting second,more matches are won.\n"
      ]
    },
    {
      "cell_type": "code",
      "metadata": {
        "id": "5widSgFTXYkK"
      },
      "source": [
        ""
      ],
      "execution_count": null,
      "outputs": []
    }
  ]
}